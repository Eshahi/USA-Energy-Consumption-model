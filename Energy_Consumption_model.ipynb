{
 "cells": [
  {
   "cell_type": "code",
   "execution_count": 106,
   "metadata": {
    "collapsed": true,
    "ExecuteTime": {
     "end_time": "2023-06-24T22:38:43.411189500Z",
     "start_time": "2023-06-24T22:38:43.406181200Z"
    }
   },
   "outputs": [],
   "source": [
    "import numpy as np\n",
    "import requests\n",
    "import pandas as pd\n",
    "from sklearn.linear_model import LinearRegression\n",
    "import json\n",
    "import matplotlib.pyplot as plt\n",
    "from sklearn import metrics"
   ]
  },
  {
   "cell_type": "raw",
   "source": [
    "Data gathering"
   ],
   "metadata": {
    "collapsed": false
   }
  },
  {
   "cell_type": "raw",
   "source": [
    "The api for eia for gathering the essentia data"
   ],
   "metadata": {
    "collapsed": false
   }
  },
  {
   "cell_type": "code",
   "execution_count": 11,
   "outputs": [],
   "source": [
    "#the api key for eia site\n",
    "# the api key for eia site\n",
    "api_key = 'Cd5c0j9SeyjybORQEx4mjiEAAuuHlHT1vUhtOYSJ'\n",
    "api_key_join_statement = '&' + 'api_key=' + api_key\n",
    "\n",
    "# the request for get each city individual energy consumption\n",
    "cities_individual_consumption = 'https://api.eia.gov/v2/seds/data/?frequency=annual&data[0]=value&facets[seriesId][' \\\n",
    "                                ']=TETXB&sort[0][column]=period&sort[0][direction]=desc&offset=0&length=5000'\n",
    "\n",
    "# the request for get each city individual energy consumption\n",
    "cities_population = 'https://api.eia.gov/v2/seds/data/?frequency=annual&data[0]=value&facets[seriesId][]=TPOPP&sort[' \\\n",
    "                    '0][column]=period&sort[0][direction]=desc&offset=0&length=5000'\n",
    "\n",
    "# the request for real gdp of each state\n",
    "cities_gdp = 'https://api.eia.gov/v2/seds/data/?frequency=annual&data[0]=value&facets[seriesId][]=GDPRX&sort[0][' \\\n",
    "             'column]=period&sort[0][direction]=desc&offset=0&length=5000'\n"
   ],
   "metadata": {
    "collapsed": false,
    "ExecuteTime": {
     "end_time": "2023-06-24T15:35:31.492846Z",
     "start_time": "2023-06-24T15:35:31.470272Z"
    }
   }
  },
  {
   "cell_type": "code",
   "execution_count": 12,
   "outputs": [],
   "source": [
    "def get_cities_individual_information(query,year=2021):\n",
    "    res = requests.get(query + api_key_join_statement)\n",
    "    data = res.json()\n",
    "    data_list = data[\"response\"][\"data\"]\n",
    "    data_list = [item for item in data_list if item['period'] == year]\n",
    "    df = pd.DataFrame(data_list)\n",
    "    return df[[\"seriesId\", \"stateDescription\", \"value\"]]"
   ],
   "metadata": {
    "collapsed": false,
    "ExecuteTime": {
     "end_time": "2023-06-24T15:35:33.960239300Z",
     "start_time": "2023-06-24T15:35:33.953240500Z"
    }
   }
  },
  {
   "cell_type": "code",
   "execution_count": 17,
   "outputs": [],
   "source": [
    "cities_individual_consumption_df = get_cities_individual_information(cities_individual_consumption)\n"
   ],
   "metadata": {
    "collapsed": false,
    "ExecuteTime": {
     "end_time": "2023-06-24T15:45:08.093326900Z",
     "start_time": "2023-06-24T15:45:04.561415Z"
    }
   }
  },
  {
   "cell_type": "code",
   "execution_count": 14,
   "outputs": [],
   "source": [
    "cities_population_df = get_cities_individual_information(cities_population)"
   ],
   "metadata": {
    "collapsed": false,
    "ExecuteTime": {
     "end_time": "2023-06-24T15:43:04.247928600Z",
     "start_time": "2023-06-24T15:42:52.442708300Z"
    }
   }
  },
  {
   "cell_type": "code",
   "execution_count": 15,
   "outputs": [],
   "source": [
    "cities_gdp_df = get_cities_individual_information(cities_gdp)"
   ],
   "metadata": {
    "collapsed": false,
    "ExecuteTime": {
     "end_time": "2023-06-24T15:43:36.399123Z",
     "start_time": "2023-06-24T15:43:33.061247700Z"
    }
   }
  },
  {
   "cell_type": "code",
   "execution_count": 28,
   "outputs": [],
   "source": [
    "cities_number_of_vehicles_df = pd.read_excel('cars.xlsx')\n",
    "cities_average_temperature_df = pd.read_excel('temprature.xlsx')"
   ],
   "metadata": {
    "collapsed": false,
    "ExecuteTime": {
     "end_time": "2023-06-24T16:43:49.778565200Z",
     "start_time": "2023-06-24T16:43:49.747350Z"
    }
   }
  },
  {
   "cell_type": "code",
   "execution_count": 22,
   "outputs": [],
   "source": [
    "cities_individual_consumption_df = cities_individual_consumption_df.drop('seriesId',axis=1)\n",
    "cities_individual_consumption_df = cities_individual_consumption_df.rename(columns={'value' : 'consumption'})\n",
    "\n",
    "cities_population_df = cities_population_df.drop('seriesId',axis=1)\n",
    "cities_population_df = cities_population_df.rename(columns={'value' : 'population'})\n",
    "\n",
    "cities_gdp_df = cities_gdp_df.drop('seriesId',axis=1)\n",
    "cities_gdp_df = cities_gdp_df.rename(columns={'value' : 'gdp'})"
   ],
   "metadata": {
    "collapsed": false,
    "ExecuteTime": {
     "end_time": "2023-06-24T16:01:18.138705200Z",
     "start_time": "2023-06-24T16:01:18.122791200Z"
    }
   }
  },
  {
   "cell_type": "code",
   "execution_count": 40,
   "outputs": [],
   "source": [
    "df = pd.merge(cities_number_of_vehicles_df,cities_population_df,on='stateDescription')\n",
    "df = pd.merge(df,cities_gdp_df,on='stateDescription')\n",
    "df = pd.merge(df,cities_average_temperature_df,on='stateDescription')\n",
    "df = pd.merge(df,cities_individual_consumption_df,on='stateDescription')\n"
   ],
   "metadata": {
    "collapsed": false,
    "ExecuteTime": {
     "end_time": "2023-06-24T16:50:13.821191400Z",
     "start_time": "2023-06-24T16:50:13.799637300Z"
    }
   }
  },
  {
   "cell_type": "code",
   "execution_count": 60,
   "outputs": [
    {
     "data": {
      "text/plain": "   stateDescription  number_of_vehicles  population      gdp  Avg °C  \\\n0           Alabama             5288209        5050   209979    17.1   \n1            Alaska              795274         734    50869    -3.0   \n2           Arizona             5982559        7265   347656    15.7   \n3          Arkansas             2902111        3028   123347    15.8   \n4        California            31247270       39143  2874731    15.2   \n5          Colorado             5412403        5811   373763     7.3   \n6       Connecticut             2878547        3623   246556     9.4   \n7          Delaware             1016927        1005    64405    12.9   \n8          Delaware             1016927        1005    64405    12.9   \n9           Florida            17833719       21828  1029576    21.5   \n10          Georgia             8594567       10788   575292    17.5   \n11           Hawaii             1272361        1447    74547    21.1   \n12            Idaho             1954528        1904    80094     6.9   \n13         Illinois            10691947       12686   780061    11.0   \n14          Indiana             6223459        6814   346241    10.9   \n15             Iowa             3786328        3198   179753     8.8   \n16           Kansas             2682337        2938   162291    12.4   \n17         Kentucky             4383222        4507   197818    13.1   \n18        Louisiana             3802746        4627   221153    19.1   \n19            Maine             1130055        1377    63595     5.0   \n20         Maryland             4203994        6175   368571    12.3   \n21    Massachusetts             5061260        6990   533102     8.8   \n22         Michigan             8440064       10038   481778     6.9   \n23        Minnesota             5425884        5711   346204     5.1   \n24      Mississippi             2066680        2950   104354    17.4   \n25         Missouri             5534289        6170   295687    12.5   \n26          Montana             1900806        1106    48976     5.9   \n27         Nebraska             1968480        1964   122136     9.3   \n28           Nevada             2546583        3146   159567     9.9   \n29    New Hampshire             1363379        1388    82986     6.6   \n30       New Jersey             6033015        9268   566893    11.5   \n31       New Mexico             1825421        2117    93625    11.9   \n32         New York            11389158       19857  1514779     7.4   \n33   North Carolina             8527388       10566   541934    15.0   \n34     North Dakota              903668         778    53804     4.7   \n35             Ohio            10901279       11764   629287    10.4   \n36         Oklahoma             3706624        3991   193230    15.3   \n37           Oregon             3919158        4256   227979     9.1   \n38     Pennsylvania            10800315       13012   710973     9.3   \n39     Rhode Island              868942        1097    54606    10.1   \n40   South Carolina             4516143        5193   221045    16.9   \n41     South Dakota             1280969         896    49558     7.3   \n42        Tennessee             5817887        6968   352461    14.2   \n43            Texas            23007145       29559  1815064    18.2   \n44             Utah             2430276        3339   186910     9.2   \n45          Vermont              620428         647    30547     6.1   \n46         Virginia             7647691        8657   505351    12.8   \n47       Washington             7377028        7741   575129     9.1   \n48    West Virginia             1668114        1786    71343    11.0   \n49        Wisconsin             5666399        5880   306467     6.2   \n50          Wyoming              843672         579    36400     5.6   \n\n    consumption  \n0       1965972  \n1        684339  \n2       1564628  \n3       1079619  \n4       7359398  \n5       1510409  \n6        704640  \n7        295583  \n8        295583  \n9       4316865  \n10      2836072  \n11       270652  \n12       573862  \n13      3718935  \n14      2728080  \n15      1565664  \n16      1074208  \n17      1689439  \n18      4283063  \n19       372138  \n20      1270107  \n21      1344094  \n22      2711064  \n23      1815672  \n24      1085643  \n25      1760958  \n26       434303  \n27       898414  \n28       761788  \n29       301653  \n30      2001182  \n31       739994  \n32      3541143  \n33      2629721  \n34       703855  \n35      3543456  \n36      1652641  \n37      1044991  \n38      3634462  \n39       186012  \n40      1631498  \n41       410352  \n42      2197337  \n43     14363662  \n44       848222  \n45       128811  \n46      2442369  \n47      1897759  \n48       853885  \n49      1763910  \n50       504854  ",
      "text/html": "<div>\n<style scoped>\n    .dataframe tbody tr th:only-of-type {\n        vertical-align: middle;\n    }\n\n    .dataframe tbody tr th {\n        vertical-align: top;\n    }\n\n    .dataframe thead th {\n        text-align: right;\n    }\n</style>\n<table border=\"1\" class=\"dataframe\">\n  <thead>\n    <tr style=\"text-align: right;\">\n      <th></th>\n      <th>stateDescription</th>\n      <th>number_of_vehicles</th>\n      <th>population</th>\n      <th>gdp</th>\n      <th>Avg °C</th>\n      <th>consumption</th>\n    </tr>\n  </thead>\n  <tbody>\n    <tr>\n      <th>0</th>\n      <td>Alabama</td>\n      <td>5288209</td>\n      <td>5050</td>\n      <td>209979</td>\n      <td>17.1</td>\n      <td>1965972</td>\n    </tr>\n    <tr>\n      <th>1</th>\n      <td>Alaska</td>\n      <td>795274</td>\n      <td>734</td>\n      <td>50869</td>\n      <td>-3.0</td>\n      <td>684339</td>\n    </tr>\n    <tr>\n      <th>2</th>\n      <td>Arizona</td>\n      <td>5982559</td>\n      <td>7265</td>\n      <td>347656</td>\n      <td>15.7</td>\n      <td>1564628</td>\n    </tr>\n    <tr>\n      <th>3</th>\n      <td>Arkansas</td>\n      <td>2902111</td>\n      <td>3028</td>\n      <td>123347</td>\n      <td>15.8</td>\n      <td>1079619</td>\n    </tr>\n    <tr>\n      <th>4</th>\n      <td>California</td>\n      <td>31247270</td>\n      <td>39143</td>\n      <td>2874731</td>\n      <td>15.2</td>\n      <td>7359398</td>\n    </tr>\n    <tr>\n      <th>5</th>\n      <td>Colorado</td>\n      <td>5412403</td>\n      <td>5811</td>\n      <td>373763</td>\n      <td>7.3</td>\n      <td>1510409</td>\n    </tr>\n    <tr>\n      <th>6</th>\n      <td>Connecticut</td>\n      <td>2878547</td>\n      <td>3623</td>\n      <td>246556</td>\n      <td>9.4</td>\n      <td>704640</td>\n    </tr>\n    <tr>\n      <th>7</th>\n      <td>Delaware</td>\n      <td>1016927</td>\n      <td>1005</td>\n      <td>64405</td>\n      <td>12.9</td>\n      <td>295583</td>\n    </tr>\n    <tr>\n      <th>8</th>\n      <td>Delaware</td>\n      <td>1016927</td>\n      <td>1005</td>\n      <td>64405</td>\n      <td>12.9</td>\n      <td>295583</td>\n    </tr>\n    <tr>\n      <th>9</th>\n      <td>Florida</td>\n      <td>17833719</td>\n      <td>21828</td>\n      <td>1029576</td>\n      <td>21.5</td>\n      <td>4316865</td>\n    </tr>\n    <tr>\n      <th>10</th>\n      <td>Georgia</td>\n      <td>8594567</td>\n      <td>10788</td>\n      <td>575292</td>\n      <td>17.5</td>\n      <td>2836072</td>\n    </tr>\n    <tr>\n      <th>11</th>\n      <td>Hawaii</td>\n      <td>1272361</td>\n      <td>1447</td>\n      <td>74547</td>\n      <td>21.1</td>\n      <td>270652</td>\n    </tr>\n    <tr>\n      <th>12</th>\n      <td>Idaho</td>\n      <td>1954528</td>\n      <td>1904</td>\n      <td>80094</td>\n      <td>6.9</td>\n      <td>573862</td>\n    </tr>\n    <tr>\n      <th>13</th>\n      <td>Illinois</td>\n      <td>10691947</td>\n      <td>12686</td>\n      <td>780061</td>\n      <td>11.0</td>\n      <td>3718935</td>\n    </tr>\n    <tr>\n      <th>14</th>\n      <td>Indiana</td>\n      <td>6223459</td>\n      <td>6814</td>\n      <td>346241</td>\n      <td>10.9</td>\n      <td>2728080</td>\n    </tr>\n    <tr>\n      <th>15</th>\n      <td>Iowa</td>\n      <td>3786328</td>\n      <td>3198</td>\n      <td>179753</td>\n      <td>8.8</td>\n      <td>1565664</td>\n    </tr>\n    <tr>\n      <th>16</th>\n      <td>Kansas</td>\n      <td>2682337</td>\n      <td>2938</td>\n      <td>162291</td>\n      <td>12.4</td>\n      <td>1074208</td>\n    </tr>\n    <tr>\n      <th>17</th>\n      <td>Kentucky</td>\n      <td>4383222</td>\n      <td>4507</td>\n      <td>197818</td>\n      <td>13.1</td>\n      <td>1689439</td>\n    </tr>\n    <tr>\n      <th>18</th>\n      <td>Louisiana</td>\n      <td>3802746</td>\n      <td>4627</td>\n      <td>221153</td>\n      <td>19.1</td>\n      <td>4283063</td>\n    </tr>\n    <tr>\n      <th>19</th>\n      <td>Maine</td>\n      <td>1130055</td>\n      <td>1377</td>\n      <td>63595</td>\n      <td>5.0</td>\n      <td>372138</td>\n    </tr>\n    <tr>\n      <th>20</th>\n      <td>Maryland</td>\n      <td>4203994</td>\n      <td>6175</td>\n      <td>368571</td>\n      <td>12.3</td>\n      <td>1270107</td>\n    </tr>\n    <tr>\n      <th>21</th>\n      <td>Massachusetts</td>\n      <td>5061260</td>\n      <td>6990</td>\n      <td>533102</td>\n      <td>8.8</td>\n      <td>1344094</td>\n    </tr>\n    <tr>\n      <th>22</th>\n      <td>Michigan</td>\n      <td>8440064</td>\n      <td>10038</td>\n      <td>481778</td>\n      <td>6.9</td>\n      <td>2711064</td>\n    </tr>\n    <tr>\n      <th>23</th>\n      <td>Minnesota</td>\n      <td>5425884</td>\n      <td>5711</td>\n      <td>346204</td>\n      <td>5.1</td>\n      <td>1815672</td>\n    </tr>\n    <tr>\n      <th>24</th>\n      <td>Mississippi</td>\n      <td>2066680</td>\n      <td>2950</td>\n      <td>104354</td>\n      <td>17.4</td>\n      <td>1085643</td>\n    </tr>\n    <tr>\n      <th>25</th>\n      <td>Missouri</td>\n      <td>5534289</td>\n      <td>6170</td>\n      <td>295687</td>\n      <td>12.5</td>\n      <td>1760958</td>\n    </tr>\n    <tr>\n      <th>26</th>\n      <td>Montana</td>\n      <td>1900806</td>\n      <td>1106</td>\n      <td>48976</td>\n      <td>5.9</td>\n      <td>434303</td>\n    </tr>\n    <tr>\n      <th>27</th>\n      <td>Nebraska</td>\n      <td>1968480</td>\n      <td>1964</td>\n      <td>122136</td>\n      <td>9.3</td>\n      <td>898414</td>\n    </tr>\n    <tr>\n      <th>28</th>\n      <td>Nevada</td>\n      <td>2546583</td>\n      <td>3146</td>\n      <td>159567</td>\n      <td>9.9</td>\n      <td>761788</td>\n    </tr>\n    <tr>\n      <th>29</th>\n      <td>New Hampshire</td>\n      <td>1363379</td>\n      <td>1388</td>\n      <td>82986</td>\n      <td>6.6</td>\n      <td>301653</td>\n    </tr>\n    <tr>\n      <th>30</th>\n      <td>New Jersey</td>\n      <td>6033015</td>\n      <td>9268</td>\n      <td>566893</td>\n      <td>11.5</td>\n      <td>2001182</td>\n    </tr>\n    <tr>\n      <th>31</th>\n      <td>New Mexico</td>\n      <td>1825421</td>\n      <td>2117</td>\n      <td>93625</td>\n      <td>11.9</td>\n      <td>739994</td>\n    </tr>\n    <tr>\n      <th>32</th>\n      <td>New York</td>\n      <td>11389158</td>\n      <td>19857</td>\n      <td>1514779</td>\n      <td>7.4</td>\n      <td>3541143</td>\n    </tr>\n    <tr>\n      <th>33</th>\n      <td>North Carolina</td>\n      <td>8527388</td>\n      <td>10566</td>\n      <td>541934</td>\n      <td>15.0</td>\n      <td>2629721</td>\n    </tr>\n    <tr>\n      <th>34</th>\n      <td>North Dakota</td>\n      <td>903668</td>\n      <td>778</td>\n      <td>53804</td>\n      <td>4.7</td>\n      <td>703855</td>\n    </tr>\n    <tr>\n      <th>35</th>\n      <td>Ohio</td>\n      <td>10901279</td>\n      <td>11764</td>\n      <td>629287</td>\n      <td>10.4</td>\n      <td>3543456</td>\n    </tr>\n    <tr>\n      <th>36</th>\n      <td>Oklahoma</td>\n      <td>3706624</td>\n      <td>3991</td>\n      <td>193230</td>\n      <td>15.3</td>\n      <td>1652641</td>\n    </tr>\n    <tr>\n      <th>37</th>\n      <td>Oregon</td>\n      <td>3919158</td>\n      <td>4256</td>\n      <td>227979</td>\n      <td>9.1</td>\n      <td>1044991</td>\n    </tr>\n    <tr>\n      <th>38</th>\n      <td>Pennsylvania</td>\n      <td>10800315</td>\n      <td>13012</td>\n      <td>710973</td>\n      <td>9.3</td>\n      <td>3634462</td>\n    </tr>\n    <tr>\n      <th>39</th>\n      <td>Rhode Island</td>\n      <td>868942</td>\n      <td>1097</td>\n      <td>54606</td>\n      <td>10.1</td>\n      <td>186012</td>\n    </tr>\n    <tr>\n      <th>40</th>\n      <td>South Carolina</td>\n      <td>4516143</td>\n      <td>5193</td>\n      <td>221045</td>\n      <td>16.9</td>\n      <td>1631498</td>\n    </tr>\n    <tr>\n      <th>41</th>\n      <td>South Dakota</td>\n      <td>1280969</td>\n      <td>896</td>\n      <td>49558</td>\n      <td>7.3</td>\n      <td>410352</td>\n    </tr>\n    <tr>\n      <th>42</th>\n      <td>Tennessee</td>\n      <td>5817887</td>\n      <td>6968</td>\n      <td>352461</td>\n      <td>14.2</td>\n      <td>2197337</td>\n    </tr>\n    <tr>\n      <th>43</th>\n      <td>Texas</td>\n      <td>23007145</td>\n      <td>29559</td>\n      <td>1815064</td>\n      <td>18.2</td>\n      <td>14363662</td>\n    </tr>\n    <tr>\n      <th>44</th>\n      <td>Utah</td>\n      <td>2430276</td>\n      <td>3339</td>\n      <td>186910</td>\n      <td>9.2</td>\n      <td>848222</td>\n    </tr>\n    <tr>\n      <th>45</th>\n      <td>Vermont</td>\n      <td>620428</td>\n      <td>647</td>\n      <td>30547</td>\n      <td>6.1</td>\n      <td>128811</td>\n    </tr>\n    <tr>\n      <th>46</th>\n      <td>Virginia</td>\n      <td>7647691</td>\n      <td>8657</td>\n      <td>505351</td>\n      <td>12.8</td>\n      <td>2442369</td>\n    </tr>\n    <tr>\n      <th>47</th>\n      <td>Washington</td>\n      <td>7377028</td>\n      <td>7741</td>\n      <td>575129</td>\n      <td>9.1</td>\n      <td>1897759</td>\n    </tr>\n    <tr>\n      <th>48</th>\n      <td>West Virginia</td>\n      <td>1668114</td>\n      <td>1786</td>\n      <td>71343</td>\n      <td>11.0</td>\n      <td>853885</td>\n    </tr>\n    <tr>\n      <th>49</th>\n      <td>Wisconsin</td>\n      <td>5666399</td>\n      <td>5880</td>\n      <td>306467</td>\n      <td>6.2</td>\n      <td>1763910</td>\n    </tr>\n    <tr>\n      <th>50</th>\n      <td>Wyoming</td>\n      <td>843672</td>\n      <td>579</td>\n      <td>36400</td>\n      <td>5.6</td>\n      <td>504854</td>\n    </tr>\n  </tbody>\n</table>\n</div>"
     },
     "execution_count": 60,
     "metadata": {},
     "output_type": "execute_result"
    }
   ],
   "source": [
    "final_data = df.to_excel('final_data.xlsx',index=False)\n",
    "df"
   ],
   "metadata": {
    "collapsed": false,
    "ExecuteTime": {
     "end_time": "2023-06-24T19:24:16.816117800Z",
     "start_time": "2023-06-24T19:24:16.770214200Z"
    }
   }
  },
  {
   "cell_type": "raw",
   "source": [
    "train model on the data of 2021"
   ],
   "metadata": {
    "collapsed": false
   }
  },
  {
   "cell_type": "code",
   "execution_count": 61,
   "outputs": [],
   "source": [
    "features = df[['number_of_vehicles','population','gdp','Avg °C']]\n",
    "target = df[['consumption']]"
   ],
   "metadata": {
    "collapsed": false,
    "ExecuteTime": {
     "end_time": "2023-06-24T19:30:03.102774Z",
     "start_time": "2023-06-24T19:30:03.092777400Z"
    }
   }
  },
  {
   "cell_type": "code",
   "execution_count": 64,
   "outputs": [
    {
     "data": {
      "text/plain": "LinearRegression()",
      "text/html": "<style>#sk-container-id-1 {color: black;background-color: white;}#sk-container-id-1 pre{padding: 0;}#sk-container-id-1 div.sk-toggleable {background-color: white;}#sk-container-id-1 label.sk-toggleable__label {cursor: pointer;display: block;width: 100%;margin-bottom: 0;padding: 0.3em;box-sizing: border-box;text-align: center;}#sk-container-id-1 label.sk-toggleable__label-arrow:before {content: \"▸\";float: left;margin-right: 0.25em;color: #696969;}#sk-container-id-1 label.sk-toggleable__label-arrow:hover:before {color: black;}#sk-container-id-1 div.sk-estimator:hover label.sk-toggleable__label-arrow:before {color: black;}#sk-container-id-1 div.sk-toggleable__content {max-height: 0;max-width: 0;overflow: hidden;text-align: left;background-color: #f0f8ff;}#sk-container-id-1 div.sk-toggleable__content pre {margin: 0.2em;color: black;border-radius: 0.25em;background-color: #f0f8ff;}#sk-container-id-1 input.sk-toggleable__control:checked~div.sk-toggleable__content {max-height: 200px;max-width: 100%;overflow: auto;}#sk-container-id-1 input.sk-toggleable__control:checked~label.sk-toggleable__label-arrow:before {content: \"▾\";}#sk-container-id-1 div.sk-estimator input.sk-toggleable__control:checked~label.sk-toggleable__label {background-color: #d4ebff;}#sk-container-id-1 div.sk-label input.sk-toggleable__control:checked~label.sk-toggleable__label {background-color: #d4ebff;}#sk-container-id-1 input.sk-hidden--visually {border: 0;clip: rect(1px 1px 1px 1px);clip: rect(1px, 1px, 1px, 1px);height: 1px;margin: -1px;overflow: hidden;padding: 0;position: absolute;width: 1px;}#sk-container-id-1 div.sk-estimator {font-family: monospace;background-color: #f0f8ff;border: 1px dotted black;border-radius: 0.25em;box-sizing: border-box;margin-bottom: 0.5em;}#sk-container-id-1 div.sk-estimator:hover {background-color: #d4ebff;}#sk-container-id-1 div.sk-parallel-item::after {content: \"\";width: 100%;border-bottom: 1px solid gray;flex-grow: 1;}#sk-container-id-1 div.sk-label:hover label.sk-toggleable__label {background-color: #d4ebff;}#sk-container-id-1 div.sk-serial::before {content: \"\";position: absolute;border-left: 1px solid gray;box-sizing: border-box;top: 0;bottom: 0;left: 50%;z-index: 0;}#sk-container-id-1 div.sk-serial {display: flex;flex-direction: column;align-items: center;background-color: white;padding-right: 0.2em;padding-left: 0.2em;position: relative;}#sk-container-id-1 div.sk-item {position: relative;z-index: 1;}#sk-container-id-1 div.sk-parallel {display: flex;align-items: stretch;justify-content: center;background-color: white;position: relative;}#sk-container-id-1 div.sk-item::before, #sk-container-id-1 div.sk-parallel-item::before {content: \"\";position: absolute;border-left: 1px solid gray;box-sizing: border-box;top: 0;bottom: 0;left: 50%;z-index: -1;}#sk-container-id-1 div.sk-parallel-item {display: flex;flex-direction: column;z-index: 1;position: relative;background-color: white;}#sk-container-id-1 div.sk-parallel-item:first-child::after {align-self: flex-end;width: 50%;}#sk-container-id-1 div.sk-parallel-item:last-child::after {align-self: flex-start;width: 50%;}#sk-container-id-1 div.sk-parallel-item:only-child::after {width: 0;}#sk-container-id-1 div.sk-dashed-wrapped {border: 1px dashed gray;margin: 0 0.4em 0.5em 0.4em;box-sizing: border-box;padding-bottom: 0.4em;background-color: white;}#sk-container-id-1 div.sk-label label {font-family: monospace;font-weight: bold;display: inline-block;line-height: 1.2em;}#sk-container-id-1 div.sk-label-container {text-align: center;}#sk-container-id-1 div.sk-container {/* jupyter's `normalize.less` sets `[hidden] { display: none; }` but bootstrap.min.css set `[hidden] { display: none !important; }` so we also need the `!important` here to be able to override the default hidden behavior on the sphinx rendered scikit-learn.org. See: https://github.com/scikit-learn/scikit-learn/issues/21755 */display: inline-block !important;position: relative;}#sk-container-id-1 div.sk-text-repr-fallback {display: none;}</style><div id=\"sk-container-id-1\" class=\"sk-top-container\"><div class=\"sk-text-repr-fallback\"><pre>LinearRegression()</pre><b>In a Jupyter environment, please rerun this cell to show the HTML representation or trust the notebook. <br />On GitHub, the HTML representation is unable to render, please try loading this page with nbviewer.org.</b></div><div class=\"sk-container\" hidden><div class=\"sk-item\"><div class=\"sk-estimator sk-toggleable\"><input class=\"sk-toggleable__control sk-hidden--visually\" id=\"sk-estimator-id-1\" type=\"checkbox\" checked><label for=\"sk-estimator-id-1\" class=\"sk-toggleable__label sk-toggleable__label-arrow\">LinearRegression</label><div class=\"sk-toggleable__content\"><pre>LinearRegression()</pre></div></div></div></div></div>"
     },
     "execution_count": 64,
     "metadata": {},
     "output_type": "execute_result"
    }
   ],
   "source": [
    "model = LinearRegression()\n",
    "model.fit(features,target)"
   ],
   "metadata": {
    "collapsed": false,
    "ExecuteTime": {
     "end_time": "2023-06-24T19:31:03.866781100Z",
     "start_time": "2023-06-24T19:31:03.820308800Z"
    }
   }
  },
  {
   "cell_type": "raw",
   "source": [
    "make the test data"
   ],
   "metadata": {
    "collapsed": false
   }
  },
  {
   "cell_type": "code",
   "execution_count": 75,
   "outputs": [],
   "source": [
    "with open('cities_individual_consumption.json','r') as file:\n",
    "    cities_individual_consumption_json = json.load(file)\n",
    "with open('cities_population.json','r') as file:\n",
    "    cities_population_json = json.load(file)\n",
    "with open('cities_gdp.json','r') as file:\n",
    "    cities_gdp_json = json.load(file)\n",
    "\n"
   ],
   "metadata": {
    "collapsed": false,
    "ExecuteTime": {
     "end_time": "2023-06-24T22:18:38.888584300Z",
     "start_time": "2023-06-24T22:18:38.854203600Z"
    }
   }
  },
  {
   "cell_type": "code",
   "execution_count": 79,
   "outputs": [],
   "source": [
    "def get_cities_individual_information_from_json_file(json_file,year=2021):\n",
    "    data_list = json_file[\"response\"][\"data\"]\n",
    "    data_list = [item for item in data_list if item['period'] == year]\n",
    "    df_tmp = pd.DataFrame(data_list)\n",
    "    return df_tmp[[\"stateDescription\", \"value\"]]"
   ],
   "metadata": {
    "collapsed": false,
    "ExecuteTime": {
     "end_time": "2023-06-24T22:20:42.764776Z",
     "start_time": "2023-06-24T22:20:42.741775300Z"
    }
   }
  },
  {
   "cell_type": "code",
   "execution_count": 84,
   "outputs": [],
   "source": [
    "cities_population_df_2020 = get_cities_individual_information_from_json_file(cities_population_json,2020)\n",
    "cities_individual_consumption_df_2020 = get_cities_individual_information_from_json_file(cities_individual_consumption_json,2020)\n",
    "cities_gdp_df_2020 = get_cities_individual_information_from_json_file(cities_gdp_json,2020)\n",
    "cities_cars_2020 = pd.read_excel('cars_2020.xlsx')\n"
   ],
   "metadata": {
    "collapsed": false,
    "ExecuteTime": {
     "end_time": "2023-06-24T22:22:24.267252Z",
     "start_time": "2023-06-24T22:22:24.239248600Z"
    }
   }
  },
  {
   "cell_type": "code",
   "execution_count": 85,
   "outputs": [],
   "source": [
    "cities_individual_consumption_df_2020 = cities_individual_consumption_df_2020.rename(columns={'value' : 'consumption'})\n",
    "\n",
    "cities_population_df_2020 = cities_population_df_2020.rename(columns={'value' : 'population'})\n",
    "\n",
    "cities_gdp_df_2020 = cities_gdp_df_2020.rename(columns={'value' : 'gdp'})\n",
    "\n"
   ],
   "metadata": {
    "collapsed": false,
    "ExecuteTime": {
     "end_time": "2023-06-24T22:22:25.065890Z",
     "start_time": "2023-06-24T22:22:25.048891800Z"
    }
   }
  },
  {
   "cell_type": "code",
   "execution_count": 86,
   "outputs": [],
   "source": [
    "df_2020 = pd.merge(cities_cars_2020,cities_population_df_2020,on='stateDescription')\n",
    "df_2020 = pd.merge(df_2020,cities_gdp_df_2020,on='stateDescription')\n",
    "df_2020 = pd.merge(df_2020,cities_average_temperature_df,on='stateDescription')\n",
    "df_2020 = pd.merge(df_2020,cities_individual_consumption_df_2020,on='stateDescription')"
   ],
   "metadata": {
    "collapsed": false,
    "ExecuteTime": {
     "end_time": "2023-06-24T22:22:26.444313800Z",
     "start_time": "2023-06-24T22:22:26.415780500Z"
    }
   }
  },
  {
   "cell_type": "code",
   "execution_count": 87,
   "outputs": [],
   "source": [
    "features_test = df_2020[['number_of_vehicles','population','gdp','Avg °C']]\n",
    "target_test = df_2020['consumption']"
   ],
   "metadata": {
    "collapsed": false,
    "ExecuteTime": {
     "end_time": "2023-06-24T22:22:29.328997100Z",
     "start_time": "2023-06-24T22:22:29.325003Z"
    }
   }
  },
  {
   "cell_type": "code",
   "execution_count": 105,
   "outputs": [
    {
     "data": {
      "text/plain": "<Figure size 640x480 with 1 Axes>",
      "image/png": "[encoded data removed]"
     },
     "metadata": {},
     "output_type": "display_data"
    }
   ],
   "source": [
    "x = range(19*1000000)\n",
    "plt.plot(x,x,color='red',linestyle = '--')\n",
    "\n",
    "predictions = model.predict(features_test)\n",
    "plt.scatter(target_test,predictions)\n",
    "\n",
    "\n",
    "plt.xlabel('real value')\n",
    "plt.ylabel('predicted value')\n",
    "\n",
    "plt.show()"
   ],
   "metadata": {
    "collapsed": false,
    "ExecuteTime": {
     "end_time": "2023-06-24T22:37:28.018590700Z",
     "start_time": "2023-06-24T22:37:23.681510600Z"
    }
   }
  },
  {
   "cell_type": "code",
   "execution_count": 96,
   "outputs": [
    {
     "data": {
      "text/plain": "array([[ 1961751.77764102],\n       [   50867.89201964],\n       [ 2484620.42425247],\n       [ 1190648.7239243 ],\n       [10111152.21600401],\n       [ 1641976.18691584],\n       [  955723.16807624],\n       [  338900.52377866],\n       [ 7498104.35946792],\n       [ 3511067.44171183],\n       [  630492.21562212],\n       [  651187.64350985],\n       [ 3767008.49056912],\n       [ 2266433.11719145],\n       [ 1057753.30264597],\n       [  953611.31120561],\n       [ 1664486.61206309],\n       [ 1658081.95692804],\n       [  414589.58985376],\n       [ 1793742.82315061],\n       [ 1659597.35813266],\n       [ 3370087.27753404],\n       [ 1690537.57347671],\n       [ 1183008.99309748],\n       [ 2122242.78990318],\n       [  410987.29816562],\n       [  585712.76451508],\n       [ 1034606.43489764],\n       [  403600.45383405],\n       [ 2617714.3988623 ],\n       [  761242.15950081],\n       [ 4540238.30858392],\n       [ 3457720.01282191],\n       [  165990.7521977 ],\n       [ 3812106.26555926],\n       [ 1394436.75190639],\n       [ 1382923.80991013],\n       [ 4022790.66811902],\n       [  374640.43172331],\n       [ 1920186.29661588],\n       [  294465.37661566],\n       [ 2355374.15694551],\n       [ 8304374.80621793],\n       [  996147.67572448],\n       [  187788.59867446],\n       [ 2666946.99631524],\n       [ 2001183.38915831],\n       [  675689.51379268],\n       [ 1898942.94465332],\n       [  147156.95725485]])"
     },
     "execution_count": 96,
     "metadata": {},
     "output_type": "execute_result"
    }
   ],
   "source": [
    "predictions\n"
   ],
   "metadata": {
    "collapsed": false,
    "ExecuteTime": {
     "end_time": "2023-06-24T22:29:45.626118700Z",
     "start_time": "2023-06-24T22:29:45.614120Z"
    }
   }
  },
  {
   "cell_type": "code",
   "execution_count": 107,
   "outputs": [
    {
     "data": {
      "text/plain": "1286478478029.1096"
     },
     "execution_count": 107,
     "metadata": {},
     "output_type": "execute_result"
    }
   ],
   "source": [
    "MSE = metrics.mean_squared_error(target_test,predictions)\n",
    "MSE"
   ],
   "metadata": {
    "collapsed": false,
    "ExecuteTime": {
     "end_time": "2023-06-24T22:39:29.364956200Z",
     "start_time": "2023-06-24T22:39:29.349102100Z"
    }
   }
  },
  {
   "cell_type": "code",
   "execution_count": null,
   "outputs": [],
   "source": [],
   "metadata": {
    "collapsed": false
   }
  }
 ],
 "metadata": {
  "kernelspec": {
   "display_name": "Python 3",
   "language": "python",
   "name": "python3"
  },
  "language_info": {
   "codemirror_mode": {
    "name": "ipython",
    "version": 2
   },
   "file_extension": ".py",
   "mimetype": "text/x-python",
   "name": "python",
   "nbconvert_exporter": "python",
   "pygments_lexer": "ipython2",
   "version": "2.7.6"
  }
 },
 "nbformat": 4,
 "nbformat_minor": 0
}
